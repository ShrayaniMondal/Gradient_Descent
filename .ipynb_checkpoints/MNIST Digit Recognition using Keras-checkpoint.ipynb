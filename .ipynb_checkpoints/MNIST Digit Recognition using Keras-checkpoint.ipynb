{
 "cells": [
  {
   "cell_type": "markdown",
   "metadata": {},
   "source": [
    "### Import all the necessary libraries"
   ]
  },
  {
   "cell_type": "code",
   "execution_count": 1,
   "metadata": {},
   "outputs": [
    {
     "name": "stderr",
     "output_type": "stream",
     "text": [
      "Using TensorFlow backend.\n"
     ]
    }
   ],
   "source": [
    "import tensorflow as tf\n",
    "from tensorflow.keras.utils import to_categorical\n",
    "from tensorflow.keras.layers import Flatten, Dense\n",
    "\n",
    "import matplotlib.pyplot as plt\n",
    "import numpy as np\n",
    "import pandas as pd\n",
    "import seaborn as sns\n",
    "\n",
    "from sklearn import datasets\n",
    "from sklearn.model_selection import train_test_split\n",
    "import time\n",
    "\n",
    "from keras.utils.np_utils import to_categorical\n",
    "\n",
    "%matplotlib inline"
   ]
  },
  {
   "cell_type": "markdown",
   "metadata": {},
   "source": [
    "### Fetch the MNIST dataset from sklearn datasets module"
   ]
  },
  {
   "cell_type": "code",
   "execution_count": 2,
   "metadata": {},
   "outputs": [],
   "source": [
    "data_set = datasets.fetch_openml(\"mnist_784\", version=1, return_X_y = True)\n",
    "pixel_values, targets = data_set"
   ]
  },
  {
   "cell_type": "markdown",
   "metadata": {},
   "source": [
    "### Visualiszing the first digit"
   ]
  },
  {
   "cell_type": "code",
   "execution_count": 3,
   "metadata": {},
   "outputs": [
    {
     "data": {
      "image/png": "[encoded data removed]",
      "text/plain": [
       "<Figure size 432x288 with 1 Axes>"
      ]
     },
     "metadata": {
      "needs_background": "light"
     },
     "output_type": "display_data"
    },
    {
     "name": "stdout",
     "output_type": "stream",
     "text": [
      "True Label associated with it = 5\n"
     ]
    }
   ],
   "source": [
    "#visualizing one single digit\n",
    "single_digit = pixel_values[0,:].reshape(28,28)\n",
    "plt.imshow(single_digit, cmap='gray')\n",
    "plt.show()\n",
    "#the corresponing true label\n",
    "print(\"True Label associated with it =\",targets[0])"
   ]
  },
  {
   "cell_type": "markdown",
   "metadata": {},
   "source": [
    "### Preprocessing the dataset"
   ]
  },
  {
   "cell_type": "code",
   "execution_count": 4,
   "metadata": {},
   "outputs": [
    {
     "name": "stdout",
     "output_type": "stream",
     "text": [
      "(70000, 784)\n",
      "(70000, 10)\n"
     ]
    }
   ],
   "source": [
    "#since targets are of string type, we convert them into integers\n",
    "y_int = targets.astype(int)\n",
    "#now converting to one hot encoded arrays\n",
    "y = to_categorical(y_int)\n",
    "\n",
    "#normalize  and convert type to float 32\n",
    "x = (pixel_values/255)\n",
    "print(x.shape)\n",
    "print(y.shape)"
   ]
  },
  {
   "cell_type": "markdown",
   "metadata": {},
   "source": [
    "### Splitting into training and testing data"
   ]
  },
  {
   "cell_type": "code",
   "execution_count": 5,
   "metadata": {},
   "outputs": [
    {
     "name": "stdout",
     "output_type": "stream",
     "text": [
      "X train shape (63000, 28, 28)\n",
      "Y train shape (63000, 10)\n",
      "X test shape (7000, 28, 28)\n",
      "Y test shape (7000, 10)\n"
     ]
    }
   ],
   "source": [
    "x_train, x_test, y_train, y_test = train_test_split(x, y, test_size=0.10, random_state=42)\n",
    "\n",
    "#reshaping\n",
    "x_train = x_train.reshape(x_train.shape[0],28,28)\n",
    "x_test = x_test.reshape(x_test.shape[0],28,28)\n",
    "\n",
    "print(\"X train shape\",x_train.shape)\n",
    "print(\"Y train shape\",y_train.shape)\n",
    "print(\"X test shape\",x_test.shape)\n",
    "print(\"Y test shape\",y_test.shape)"
   ]
  },
  {
   "cell_type": "markdown",
   "metadata": {},
   "source": [
    "### Training"
   ]
  },
  {
   "cell_type": "code",
   "execution_count": 6,
   "metadata": {},
   "outputs": [
    {
     "name": "stdout",
     "output_type": "stream",
     "text": [
      "Epoch 1/15\n",
      "443/443 [==============================] - 1s 3ms/step - loss: 0.8588 - accuracy: 0.8006 - val_loss: 0.3419 - val_accuracy: 0.9100\n",
      "Epoch 2/15\n",
      "443/443 [==============================] - 1s 3ms/step - loss: 0.2828 - accuracy: 0.9222 - val_loss: 0.2349 - val_accuracy: 0.9356\n",
      "Epoch 3/15\n",
      "443/443 [==============================] - 1s 3ms/step - loss: 0.2101 - accuracy: 0.9387 - val_loss: 0.1883 - val_accuracy: 0.9454\n",
      "Epoch 4/15\n",
      "443/443 [==============================] - 1s 3ms/step - loss: 0.1680 - accuracy: 0.9510 - val_loss: 0.1609 - val_accuracy: 0.9530\n",
      "Epoch 5/15\n",
      "443/443 [==============================] - 1s 3ms/step - loss: 0.1384 - accuracy: 0.9602 - val_loss: 0.1405 - val_accuracy: 0.9581\n",
      "Epoch 6/15\n",
      "443/443 [==============================] - 1s 3ms/step - loss: 0.1164 - accuracy: 0.9666 - val_loss: 0.1310 - val_accuracy: 0.9613\n",
      "Epoch 7/15\n",
      "443/443 [==============================] - 1s 3ms/step - loss: 0.0977 - accuracy: 0.9726 - val_loss: 0.1167 - val_accuracy: 0.9646\n",
      "Epoch 8/15\n",
      "443/443 [==============================] - 1s 3ms/step - loss: 0.0831 - accuracy: 0.9769 - val_loss: 0.1008 - val_accuracy: 0.9686\n",
      "Epoch 9/15\n",
      "443/443 [==============================] - 1s 3ms/step - loss: 0.0712 - accuracy: 0.9798 - val_loss: 0.0939 - val_accuracy: 0.9706\n",
      "Epoch 10/15\n",
      "443/443 [==============================] - 1s 3ms/step - loss: 0.0613 - accuracy: 0.9832 - val_loss: 0.0870 - val_accuracy: 0.9721\n",
      "Epoch 11/15\n",
      "443/443 [==============================] - 1s 3ms/step - loss: 0.0527 - accuracy: 0.9854 - val_loss: 0.0827 - val_accuracy: 0.9729\n",
      "Epoch 12/15\n",
      "443/443 [==============================] - 1s 3ms/step - loss: 0.0454 - accuracy: 0.9879 - val_loss: 0.0790 - val_accuracy: 0.9738\n",
      "Epoch 13/15\n",
      "443/443 [==============================] - 1s 3ms/step - loss: 0.0391 - accuracy: 0.9894 - val_loss: 0.0779 - val_accuracy: 0.9744\n",
      "Epoch 14/15\n",
      "443/443 [==============================] - 1s 3ms/step - loss: 0.0335 - accuracy: 0.9914 - val_loss: 0.0765 - val_accuracy: 0.9754\n",
      "Epoch 15/15\n",
      "443/443 [==============================] - 1s 3ms/step - loss: 0.0292 - accuracy: 0.9932 - val_loss: 0.0741 - val_accuracy: 0.9760\n"
     ]
    },
    {
     "data": {
      "text/plain": [
       "<tensorflow.python.keras.callbacks.History at 0x202818e6710>"
      ]
     },
     "execution_count": 6,
     "metadata": {},
     "output_type": "execute_result"
    }
   ],
   "source": [
    "batch_size = 128\n",
    "epochs = 15\n",
    "num_classes = 10\n",
    "\n",
    "model = tf.keras.Sequential([\n",
    "    Flatten(input_shape=(28,28)),\n",
    "    Dense(128, activation='sigmoid'),\n",
    "    Dense(64, activation='sigmoid'),\n",
    "    Dense(num_classes, activation=\"softmax\")\n",
    "])\n",
    "\n",
    "model.compile(optimizer=\"adam\",\n",
    "              loss=\"categorical_crossentropy\",\n",
    "              metrics=['accuracy'])\n",
    "\n",
    "model.fit(x_train, y_train, batch_size=batch_size, epochs=epochs, validation_split=0.1)"
   ]
  },
  {
   "cell_type": "markdown",
   "metadata": {},
   "source": [
    "### Evaluate the trained model"
   ]
  },
  {
   "cell_type": "code",
   "execution_count": 7,
   "metadata": {},
   "outputs": [
    {
     "name": "stdout",
     "output_type": "stream",
     "text": [
      "Test loss: 0.08572066575288773\n",
      "Test accuracy: 0.9738571643829346\n"
     ]
    }
   ],
   "source": [
    "score = model.evaluate(x_test, y_test, verbose=0)\n",
    "print(\"Test loss:\", score[0])\n",
    "print(\"Test accuracy:\", score[1])"
   ]
  }
 ],
 "metadata": {
  "kernelspec": {
   "display_name": "Python 3",
   "language": "python",
   "name": "python3"
  },
  "language_info": {
   "codemirror_mode": {
    "name": "ipython",
    "version": 3
   },
   "file_extension": ".py",
   "mimetype": "text/x-python",
   "name": "python",
   "nbconvert_exporter": "python",
   "pygments_lexer": "ipython3",
   "version": "3.6.8"
  }
 },
 "nbformat": 4,
 "nbformat_minor": 2
}
