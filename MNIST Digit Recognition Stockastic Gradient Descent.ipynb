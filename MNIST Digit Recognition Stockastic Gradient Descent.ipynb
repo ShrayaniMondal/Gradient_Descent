{
 "cells": [
  {
   "cell_type": "markdown",
   "metadata": {},
   "source": [
    "### Import all the necessary libraries"
   ]
  },
  {
   "cell_type": "code",
   "execution_count": 1,
   "metadata": {},
   "outputs": [
    {
     "name": "stderr",
     "output_type": "stream",
     "text": [
      "Using TensorFlow backend.\n"
     ]
    }
   ],
   "source": [
    "import matplotlib.pyplot as plt\n",
    "import numpy as np\n",
    "import pandas as pd\n",
    "import seaborn as sns\n",
    "\n",
    "from sklearn import datasets\n",
    "from sklearn.model_selection import train_test_split\n",
    "import time\n",
    "\n",
    "from keras.utils.np_utils import to_categorical\n",
    "\n",
    "%matplotlib inline"
   ]
  },
  {
   "cell_type": "markdown",
   "metadata": {},
   "source": [
    "### Fetch the MNIST dataset from sklearn datasets module"
   ]
  },
  {
   "cell_type": "code",
   "execution_count": 2,
   "metadata": {},
   "outputs": [],
   "source": [
    "data_set = datasets.fetch_openml(\"mnist_784\", version=1, return_X_y = True)\n",
    "pixel_values, targets = data_set"
   ]
  },
  {
   "cell_type": "markdown",
   "metadata": {},
   "source": [
    "### Visualiszing the first digit"
   ]
  },
  {
   "cell_type": "code",
   "execution_count": 3,
   "metadata": {},
   "outputs": [
    {
     "data": {
      "image/png": "[encoded data removed]",
      "text/plain": [
       "<Figure size 432x288 with 1 Axes>"
      ]
     },
     "metadata": {
      "needs_background": "light"
     },
     "output_type": "display_data"
    },
    {
     "name": "stdout",
     "output_type": "stream",
     "text": [
      "True Label associated with it = 5\n"
     ]
    }
   ],
   "source": [
    "#visualizing one single digit\n",
    "single_digit = pixel_values[0,:].reshape(28,28)\n",
    "plt.imshow(single_digit, cmap='gray')\n",
    "plt.show()\n",
    "#the corresponing true label\n",
    "print(\"True Label associated with it =\",targets[0])"
   ]
  },
  {
   "cell_type": "markdown",
   "metadata": {},
   "source": [
    "### Preprocessing the dataset"
   ]
  },
  {
   "cell_type": "code",
   "execution_count": 4,
   "metadata": {},
   "outputs": [],
   "source": [
    "#since targets are of string type, we convert them into integers\n",
    "y_int = targets.astype(int)\n",
    "#now converting to one hot encoded arrays\n",
    "y = to_categorical(y_int)\n",
    "\n",
    "#normalize  and convert type to float 32\n",
    "x = (pixel_values/255).astype('float32')"
   ]
  },
  {
   "cell_type": "markdown",
   "metadata": {},
   "source": [
    "### splitting into training, validation, and testing data"
   ]
  },
  {
   "cell_type": "code",
   "execution_count": 5,
   "metadata": {},
   "outputs": [],
   "source": [
    "x_train, x_test, y_train, y_test = train_test_split(x, y, test_size=0.10, random_state=42)\n",
    "x_train, x_val, y_train, y_val = train_test_split(x_train, y_train, test_size=0.20, random_state=42)"
   ]
  },
  {
   "cell_type": "markdown",
   "metadata": {},
   "source": [
    "### Creating a Deep Neural Network class"
   ]
  },
  {
   "cell_type": "code",
   "execution_count": 6,
   "metadata": {},
   "outputs": [],
   "source": [
    "class DeepNeuralNetwork():\n",
    "    def __init__(self, sizes, epochs=10, l_rate=0.01):\n",
    "        self.sizes = sizes\n",
    "        self.epochs = epochs\n",
    "        self.l_rate = l_rate\n",
    "\n",
    "        # we save all parameters in the neural network in this dictionary\n",
    "        self.params = self.initialization()\n",
    "\n",
    "    def initialization(self):\n",
    "        # number of nodes in each layer\n",
    "        input_layer=self.sizes[0]\n",
    "        hidden_layer1=self.sizes[1]\n",
    "        hidden_layer2=self.sizes[2]\n",
    "        output_layer=self.sizes[3]\n",
    "\n",
    "        params = {\n",
    "            \"W1\" : np.random.randn(hidden_layer1, input_layer)*np.sqrt(1. / hidden_layer1),\n",
    "            \"W2\" : np.random.randn(hidden_layer2, hidden_layer1)*np.sqrt(1. / hidden_layer2),\n",
    "            \"W3\" : np.random.randn(output_layer, hidden_layer2)*np.sqrt(1. / input_layer),\n",
    "            \"B1\" : np.zeros((hidden_layer1,1), np.float32),\n",
    "            \"B2\" : np.zeros((hidden_layer2,1), np.float32),\n",
    "            \"B3\" : np.zeros((output_layer,1), np.float32),\n",
    "        }\n",
    "\n",
    "        return params\n",
    "    \n",
    "    def sigmoid(self, x, derivative=False):\n",
    "        if derivative:\n",
    "            return (np.exp(-x))/((np.exp(-x)+1)**2)\n",
    "        return 1/(1 + np.exp(-x))\n",
    "    \n",
    "    def tanh(self, x, derivative=False):\n",
    "        if derivative:\n",
    "            tanh_x = self.tanh(x)\n",
    "            return (1-tanh_x*tanh_x)\n",
    "        return (np.exp(x) - np.exp(-x))/(np.exp(x) + np.exp(-x))\n",
    "\n",
    "    def softmax(self, x):\n",
    "        # Numerically stable with large exponentials\n",
    "        exps = np.exp(x - x.max())\n",
    "        return exps / np.sum(exps, axis=0)\n",
    "    \n",
    "    def forward_pass(self, x_train):\n",
    "        params = self.params\n",
    "        \n",
    "        #for layer 1 to l-1, i.e., till one but last layer, get the outputs\n",
    "        #h0 is the input itself\n",
    "        params[\"H0\"] = x_train.reshape(x_train.shape[0],1)\n",
    "        \n",
    "        # input layer to hidden layer 1\n",
    "        params[\"A1\"] = np.add(np.dot(params[\"W1\"], params[\"H0\"]),  params[\"B1\"])\n",
    "        params[\"H1\"] = self.sigmoid(params[\"A1\"])\n",
    "\n",
    "        # hidden layer 1 to hidden layer 2\n",
    "        params[\"A2\"] = np.add(np.dot(params[\"W2\"], params[\"H1\"]),  params[\"B2\"])\n",
    "        params[\"H2\"] = self.sigmoid(params[\"A2\"])\n",
    "\n",
    "        # hidden layer 2 to output layer\n",
    "        params[\"A3\"] = np.add(np.dot(params[\"W3\"], params[\"H2\"]),  params[\"B3\"])\n",
    "        params[\"H3\"] = self.softmax(params[\"A3\"])\n",
    "        \n",
    "        #return the predicted out that is H3\n",
    "        return params[\"H3\"]\n",
    "    \n",
    "    def backward_pass(self, y_train, output):\n",
    "        \n",
    "        #Back Propagation to learn the weights and biases\n",
    "        #we will get the output from the forward pass\n",
    "        params = self.params\n",
    "        change_w = {}\n",
    "        \n",
    "        #y_train is the one hot encoded vector corresponding to the true label\n",
    "        y_train = y_train.reshape(y_train.shape[0],1)\n",
    "        \n",
    "        # Calculate W3 update\n",
    "        error = output - y_train\n",
    "        change_w['W3'] = np.dot(error, params[\"H2\"].T)\n",
    "        change_w['B3'] = error\n",
    "\n",
    "        # Calculate W2 update\n",
    "        # hadamard operation between : [compute the graients wrt to the layer below],[derivative of activation function]\n",
    "        error = np.multiply(np.dot(params[\"W3\"].T,error),self.sigmoid(params[\"A2\"], derivative=True))\n",
    "        change_w['W2'] = np.dot(error, params[\"H1\"].T)\n",
    "        change_w['B2'] = error\n",
    "\n",
    "        # Calculate W1 update\n",
    "        # hadamard operation between : [compute the graients wrt to the layer below],[derivative of activation function]\n",
    "        error = np.multiply(np.dot(params[\"W2\"].T,error),self.sigmoid(params[\"A1\"], derivative=True))\n",
    "        change_w['W1'] = np.dot(error, params[\"H0\"].T)\n",
    "        change_w['B1'] = error\n",
    "\n",
    "        return change_w\n",
    "    \n",
    "    def update_network_parameters(self, changes_to_w):\n",
    "        #Update network parameters according to update rule from Stochastic Gradient Descent.\n",
    "        #θ = θ - η * ∇J(x, y)\n",
    "        \n",
    "        for key, value in changes_to_w.items():\n",
    "            self.params[key] = np.subtract(self.params[key], self.l_rate * value)\n",
    "            \n",
    "    def compute_accuracy(self, x_val, y_val):\n",
    "        predictions = []\n",
    "        for x, y in zip(x_val, y_val):\n",
    "            output = self.forward_pass(x)\n",
    "            pred = np.argmax(output)\n",
    "            predictions.append(1 if pred == np.argmax(y) else 0)\n",
    "        return np.average(predictions)\n",
    "    \n",
    "    def train(self, x_train, y_train, x_val, y_val):\n",
    "        start_time = time.time()\n",
    "        for iteration in range(self.epochs):\n",
    "            for x,y in zip(x_train, y_train):\n",
    "                output = self.forward_pass(x)\n",
    "                changes_to_w = self.backward_pass(y, output)\n",
    "                self.update_network_parameters(changes_to_w)\n",
    "            \n",
    "            accuracy = self.compute_accuracy(x_val, y_val)\n",
    "            print('Epoch: {0}, Time Spent: {1:.2f}s, Accuracy: {2}'.format(\n",
    "                iteration+1, time.time() - start_time, accuracy\n",
    "            ))"
   ]
  },
  {
   "cell_type": "code",
   "execution_count": 7,
   "metadata": {},
   "outputs": [
    {
     "name": "stdout",
     "output_type": "stream",
     "text": [
      "Epoch: 1, Time Spent: 72.94s, Accuracy: 0.9157142857142857\n",
      "Epoch: 2, Time Spent: 135.78s, Accuracy: 0.9423809523809524\n",
      "Epoch: 3, Time Spent: 190.70s, Accuracy: 0.9548412698412698\n",
      "Epoch: 4, Time Spent: 244.98s, Accuracy: 0.9608730158730159\n",
      "Epoch: 5, Time Spent: 302.41s, Accuracy: 0.9648412698412698\n",
      "Epoch: 6, Time Spent: 362.32s, Accuracy: 0.9676984126984127\n",
      "Epoch: 7, Time Spent: 424.46s, Accuracy: 0.9693650793650793\n",
      "Epoch: 8, Time Spent: 468.81s, Accuracy: 0.9704761904761905\n",
      "Epoch: 9, Time Spent: 504.33s, Accuracy: 0.9714285714285714\n",
      "Epoch: 10, Time Spent: 538.23s, Accuracy: 0.972936507936508\n"
     ]
    }
   ],
   "source": [
    "#training and validating\n",
    "dnn = DeepNeuralNetwork(sizes=[784, 128, 64, 10])\n",
    "dnn.train(x_train, y_train, x_val, y_val)"
   ]
  },
  {
   "cell_type": "markdown",
   "metadata": {},
   "source": [
    "### Testing on unseen data"
   ]
  },
  {
   "cell_type": "code",
   "execution_count": 8,
   "metadata": {},
   "outputs": [
    {
     "name": "stdout",
     "output_type": "stream",
     "text": [
      "Accuracy on Test Set = 0.9681428571428572\n"
     ]
    }
   ],
   "source": [
    "testing_accuracy = dnn.compute_accuracy(x_test, y_test)\n",
    "print(\"Accuracy on Test Set =\",testing_accuracy)"
   ]
  }
 ],
 "metadata": {
  "kernelspec": {
   "display_name": "Python 3",
   "language": "python",
   "name": "python3"
  },
  "language_info": {
   "codemirror_mode": {
    "name": "ipython",
    "version": 3
   },
   "file_extension": ".py",
   "mimetype": "text/x-python",
   "name": "python",
   "nbconvert_exporter": "python",
   "pygments_lexer": "ipython3",
   "version": "3.6.8"
  }
 },
 "nbformat": 4,
 "nbformat_minor": 2
}
